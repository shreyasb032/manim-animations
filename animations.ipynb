{
 "cells": [
  {
   "cell_type": "code",
   "execution_count": 24,
   "id": "9aacdccd-6061-4f41-94b4-b8466fd2adf7",
   "metadata": {},
   "outputs": [],
   "source": [
    "from manim import *\n",
    "config.media_width = \"75%\"\n",
    "config.verbosity = \"WARNING\"\n",
    "config.background_color = WHITE"
   ]
  },
  {
   "cell_type": "code",
   "execution_count": 25,
   "id": "f546c7c6-e441-4bda-992a-6bdaf8e048c8",
   "metadata": {},
   "outputs": [
    {
     "data": {
      "text/html": [
       "<pre style=\"white-space:pre;overflow-x:auto;line-height:normal;font-family:Menlo,'DejaVu Sans Mono',consolas,'Courier New',monospace\">Manim Community <span style=\"color: #008000; text-decoration-color: #008000\">v0.18.1</span>\n",
       "\n",
       "</pre>\n"
      ],
      "text/plain": [
       "Manim Community \u001b[32mv0.\u001b[0m\u001b[32m18.1\u001b[0m\n",
       "\n"
      ]
     },
     "metadata": {},
     "output_type": "display_data"
    },
    {
     "name": "stderr",
     "output_type": "stream",
     "text": [
      "                                                                                                                                                                                                                                   \r"
     ]
    },
    {
     "data": {
      "text/html": [
       "<video src=\"media\\jupyter\\breathing@2024-05-01@15-11-47.mp4\" controls autoplay loop style=\"max-width: 75%;\"  >\n",
       "      Your browser does not support the <code>video</code> element.\n",
       "    </video>"
      ],
      "text/plain": [
       "<IPython.core.display.Video object>"
      ]
     },
     "metadata": {},
     "output_type": "display_data"
    }
   ],
   "source": [
    "%%manim -qh breathing\n",
    "class breathing(Scene):\n",
    "    def construct(self):\n",
    "        color_on = PURE_GREEN\n",
    "        color_off = GRAY_A\n",
    "        led_1 = Circle(color=color_off, fill_opacity=0.9)\n",
    "        led_2 = Circle(color=color_off, fill_opacity=0.9)\n",
    "        led_3 = Circle(color=color_off, fill_opacity=0.9)\n",
    "        led_4 = Circle(color=color_off, fill_opacity=0.9)\n",
    "        led_5 = Circle(color=color_off, fill_opacity=0.9)\n",
    "        led_group = Group(led_1, led_2, led_3, led_4, led_5).arrange(buff=1)\n",
    "        self.add(led_group)\n",
    "        self.play(FadeToColor(led_group, color=color_on))\n",
    "        self.wait(duration=0.5)\n",
    "        self.play(FadeToColor(led_group, color=color_off))\n",
    "        self.wait(duration=0.5)\n",
    "    "
   ]
  },
  {
   "cell_type": "code",
   "execution_count": null,
   "id": "3477a02e-85e9-4627-82eb-8607ac683f95",
   "metadata": {},
   "outputs": [],
   "source": [
    "%%manim -qh accelerating_low\n",
    "class accelerating_low(Scene):\n",
    "    def construct(self):\n",
    "        led_1 = Circle(color=GRAY_A, fill_opacity=0.9)\n",
    "        led_2 = Circle(color=GRAY_A, fill_opacity=0.9)\n",
    "        led_3 = Circle(color=GRAY_A, fill_opacity=0.9)\n",
    "        led_4 = Circle(color=GRAY_A, fill_opacity=0.9)\n",
    "        led_5 = Circle(color=GRAY_A, fill_opacity=0.9)\n",
    "        led_group_all = Group(led_1, led_2, led_3, led_4, led_5).arrange(buff=1)\n",
    "        self.add(led_group_all)\n",
    "        self.play()"
   ]
  }
 ],
 "metadata": {
  "kernelspec": {
   "display_name": "Python 3 (ipykernel)",
   "language": "python",
   "name": "python3"
  },
  "language_info": {
   "codemirror_mode": {
    "name": "ipython",
    "version": 3
   },
   "file_extension": ".py",
   "mimetype": "text/x-python",
   "name": "python",
   "nbconvert_exporter": "python",
   "pygments_lexer": "ipython3",
   "version": "3.11.9"
  }
 },
 "nbformat": 4,
 "nbformat_minor": 5
}
