{
 "cells": [
  {
   "cell_type": "code",
   "execution_count": 58,
   "id": "9aacdccd-6061-4f41-94b4-b8466fd2adf7",
   "metadata": {},
   "outputs": [],
   "source": [
    "from manim import *\n",
    "config.media_width = \"75%\"\n",
    "config.verbosity = \"WARNING\"\n",
    "config.background_color = WHITE\n",
    "\n",
    "color_off = GRAY_A\n",
    "color_100 = '#ff5e00'\n",
    "color_70 = '#b34100'\n",
    "color_40 = '#662500'\n",
    "color_20 = '#331300'\n",
    "num_leds = 7\n",
    "radius = 0.6\n",
    "buff = 0.5\n",
    "\n",
    "\n",
    "run_time_fast = 0.25\n",
    "run_time_med = 0.5\n",
    "run_time_slow = 1.0"
   ]
  },
  {
   "cell_type": "code",
   "execution_count": 68,
   "id": "f546c7c6-e441-4bda-992a-6bdaf8e048c8",
   "metadata": {},
   "outputs": [
    {
     "data": {
      "text/html": [
       "<pre style=\"white-space:pre;overflow-x:auto;line-height:normal;font-family:Menlo,'DejaVu Sans Mono',consolas,'Courier New',monospace\">Manim Community <span style=\"color: #008000; text-decoration-color: #008000\">v0.18.1</span>\n",
       "\n",
       "</pre>\n"
      ],
      "text/plain": [
       "Manim Community \u001b[32mv0.\u001b[0m\u001b[32m18.1\u001b[0m\n",
       "\n"
      ]
     },
     "metadata": {},
     "output_type": "display_data"
    },
    {
     "name": "stderr",
     "output_type": "stream",
     "text": [
      "                                                                                                                                                                                                                                   \r"
     ]
    },
    {
     "data": {
      "text/html": [
       "<video src=\"media\\jupyter\\yielding@2024-05-02@23-24-17.mp4\" controls autoplay loop style=\"max-width: 75%;\"  >\n",
       "      Your browser does not support the <code>video</code> element.\n",
       "    </video>"
      ],
      "text/plain": [
       "<IPython.core.display.Video object>"
      ]
     },
     "metadata": {},
     "output_type": "display_data"
    }
   ],
   "source": [
    "%%manim -qh yielding\n",
    "class yielding(Scene):\n",
    "    def construct(self):\n",
    "        color_yield = '#006600'\n",
    "        # color_yield = color_40\n",
    "        leds = []\n",
    "        for i in range(num_leds):\n",
    "            leds.append(Circle(radius=radius, color=color_off, fill_opacity=0.9))\n",
    "        led_group = Group(*leds).arrange(buff=buff)\n",
    "        self.add(led_group)\n",
    "        self.play(FadeToColor(led_group, color=color_yield), run_time=run_time_slow)\n",
    "        self.wait(duration=0.5)\n",
    "        self.play(FadeToColor(led_group, color=color_off), run_time=run_time_slow)\n",
    "        self.wait(duration=0.5)\n",
    "    "
   ]
  },
  {
   "cell_type": "code",
   "execution_count": 67,
   "id": "d7d5c0ad-2039-4358-bdb2-77457db48925",
   "metadata": {},
   "outputs": [
    {
     "data": {
      "text/html": [
       "<pre style=\"white-space:pre;overflow-x:auto;line-height:normal;font-family:Menlo,'DejaVu Sans Mono',consolas,'Courier New',monospace\">Manim Community <span style=\"color: #008000; text-decoration-color: #008000\">v0.18.1</span>\n",
       "\n",
       "</pre>\n"
      ],
      "text/plain": [
       "Manim Community \u001b[32mv0.\u001b[0m\u001b[32m18.1\u001b[0m\n",
       "\n"
      ]
     },
     "metadata": {},
     "output_type": "display_data"
    },
    {
     "data": {
      "text/html": [
       "<video src=\"media\\jupyter\\InMotion@2024-05-02@23-23-15.mp4\" controls autoplay loop style=\"max-width: 75%;\"  >\n",
       "      Your browser does not support the <code>video</code> element.\n",
       "    </video>"
      ],
      "text/plain": [
       "<IPython.core.display.Video object>"
      ]
     },
     "metadata": {},
     "output_type": "display_data"
    }
   ],
   "source": [
    "%%manim -qh InMotion\n",
    "class InMotion(Scene):\n",
    "    def construct(self):\n",
    "        color_in_motion_low = '#006600'\n",
    "        color_in_motion_med = '#00b300'\n",
    "        color_in_motion_high = PURE_GREEN\n",
    "\n",
    "        # color_in_motion_low = color_40\n",
    "        # color_in_motion_med = color_70\n",
    "        # color_in_motion_high = color_100\n",
    "        \n",
    "        leds = []\n",
    "        for i in range(num_leds):\n",
    "            leds.append(Circle(radius=radius, color=color_off, fill_opacity=0.9))\n",
    "        led_group = Group(*leds).arrange(buff=buff)\n",
    "        self.add(led_group)\n",
    "        text = Text(\"Low Speed\", color=BLACK).next_to(led_group, UP, buff=1.0)\n",
    "        self.add(text)\n",
    "        leds[3].set_fill(color=color_in_motion_low)\n",
    "        self.wait(2.0)\n",
    "        self.remove(text)\n",
    "        # self.wait(0.5)\n",
    "        text = Text(\"Medium Speed\", color=BLACK).next_to(led_group, UP, buff=1.0)\n",
    "        self.add(text)\n",
    "        for i in [2,3,4]:\n",
    "            leds[i].set_fill(color=color_in_motion_med)\n",
    "        self.wait(2.0)\n",
    "        self.remove(text)\n",
    "        # self.wait(0.5)\n",
    "        text = Text(\"High Speed\", color=BLACK).next_to(led_group, UP, buff=1.0)\n",
    "        self.add(text)\n",
    "        for i in [1,2,3,4,5]:\n",
    "            leds[i].set_fill(color=color_in_motion_high)\n",
    "        self.wait(2.0)\n",
    "        "
   ]
  },
  {
   "cell_type": "code",
   "execution_count": 66,
   "id": "1e913b62-61e4-4af3-95f8-7e7b84cffd1e",
   "metadata": {},
   "outputs": [
    {
     "data": {
      "text/html": [
       "<pre style=\"white-space:pre;overflow-x:auto;line-height:normal;font-family:Menlo,'DejaVu Sans Mono',consolas,'Courier New',monospace\">Manim Community <span style=\"color: #008000; text-decoration-color: #008000\">v0.18.1</span>\n",
       "\n",
       "</pre>\n"
      ],
      "text/plain": [
       "Manim Community \u001b[32mv0.\u001b[0m\u001b[32m18.1\u001b[0m\n",
       "\n"
      ]
     },
     "metadata": {},
     "output_type": "display_data"
    },
    {
     "name": "stderr",
     "output_type": "stream",
     "text": [
      "                                                                                                                                                                                                                                   \r"
     ]
    },
    {
     "data": {
      "text/html": [
       "<video src=\"media\\jupyter\\DeceleratingOverall@2024-05-02@23-21-00.mp4\" controls autoplay loop style=\"max-width: 75%;\"  >\n",
       "      Your browser does not support the <code>video</code> element.\n",
       "    </video>"
      ],
      "text/plain": [
       "<IPython.core.display.Video object>"
      ]
     },
     "metadata": {},
     "output_type": "display_data"
    }
   ],
   "source": [
    "%%manim -qh DeceleratingOverall\n",
    "class DeceleratingOverall(Scene):\n",
    "    def construct(self):\n",
    "        color_decel = '#660000'\n",
    "        # color_decel = color_40\n",
    "        leds = []\n",
    "        for i in range(num_leds):\n",
    "            leds.append(Circle(radius=radius, color=color_off, fill_opacity=0.9))\n",
    "        led_group = Group(*leds).arrange(buff=buff)\n",
    "        self.add(led_group)\n",
    "        text = Text(\"Low Deceleration\", color=BLACK).next_to(led_group, UP, buff=1.0)\n",
    "        self.add(text)\n",
    "        for _ in range(3):\n",
    "            self.play(leds[3].animate(run_time=run_time_slow).set_fill(color=color_decel))\n",
    "            self.play(leds[3].animate(run_time=run_time_slow).set_fill(color=color_off))\n",
    "        self.wait(0.5)\n",
    "        self.remove(text)\n",
    "        self.wait(0.5)\n",
    "        text = Text(\"Medium Deceleration\", color=BLACK).next_to(led_group, UP, buff=1.0)\n",
    "        self.add(text)\n",
    "        for _ in range(3):\n",
    "            self.play(leds[2].animate(run_time=run_time_slow).set_fill(color=color_decel), \n",
    "                      leds[3].animate(run_time=run_time_slow).set_fill(color=color_decel), \n",
    "                      leds[4].animate(run_time=run_time_slow).set_fill(color=color_decel))\n",
    "            self.play(leds[2].animate(run_time=run_time_slow).set_fill(color=color_off), \n",
    "                      leds[3].animate(run_time=run_time_slow).set_fill(color=color_off), \n",
    "                      leds[4].animate(run_time=run_time_slow).set_fill(color=color_off))\n",
    "        self.wait(0.5)\n",
    "        self.remove(text)\n",
    "        self.wait(0.5)\n",
    "        text = Text(\"High Deceleration\", color=BLACK).next_to(led_group, UP, buff=1.0)\n",
    "        self.add(text)\n",
    "        for _ in range(3):\n",
    "            self.play(leds[1].animate(run_time=run_time_slow).set_fill(color=color_decel),\n",
    "                      leds[2].animate(run_time=run_time_slow).set_fill(color=color_decel), \n",
    "                      leds[3].animate(run_time=run_time_slow).set_fill(color=color_decel), \n",
    "                      leds[4].animate(run_time=run_time_slow).set_fill(color=color_decel),\n",
    "                      leds[5].animate(run_time=run_time_slow).set_fill(color=color_decel))\n",
    "            self.play(leds[1].animate(run_time=run_time_slow).set_fill(color=color_off),\n",
    "                      leds[2].animate(run_time=run_time_slow).set_fill(color=color_off), \n",
    "                      leds[3].animate(run_time=run_time_slow).set_fill(color=color_off), \n",
    "                      leds[4].animate(run_time=run_time_slow).set_fill(color=color_off),\n",
    "                      leds[5].animate(run_time=run_time_slow).set_fill(color=color_off))\n",
    "        self.wait(0.5)"
   ]
  },
  {
   "cell_type": "code",
   "execution_count": 65,
   "id": "770e20ec-ca98-4bae-b82a-d994c741ec7f",
   "metadata": {},
   "outputs": [
    {
     "data": {
      "text/html": [
       "<pre style=\"white-space:pre;overflow-x:auto;line-height:normal;font-family:Menlo,'DejaVu Sans Mono',consolas,'Courier New',monospace\">Manim Community <span style=\"color: #008000; text-decoration-color: #008000\">v0.18.1</span>\n",
       "\n",
       "</pre>\n"
      ],
      "text/plain": [
       "Manim Community \u001b[32mv0.\u001b[0m\u001b[32m18.1\u001b[0m\n",
       "\n"
      ]
     },
     "metadata": {},
     "output_type": "display_data"
    },
    {
     "name": "stderr",
     "output_type": "stream",
     "text": [
      "                                                                                                                                                                                                                                   \r"
     ]
    },
    {
     "data": {
      "text/html": [
       "<video src=\"media\\jupyter\\AcceleratingOverall@2024-05-02@23-18-36.mp4\" controls autoplay loop style=\"max-width: 75%;\"  >\n",
       "      Your browser does not support the <code>video</code> element.\n",
       "    </video>"
      ],
      "text/plain": [
       "<IPython.core.display.Video object>"
      ]
     },
     "metadata": {},
     "output_type": "display_data"
    }
   ],
   "source": [
    "%%manim -qh AcceleratingOverall\n",
    "class AcceleratingOverall(Scene):\n",
    "    def construct(self):\n",
    "        color_accel = BLUE\n",
    "        # color_accel = color_100\n",
    "        leds = []\n",
    "        for i in range(num_leds):\n",
    "            leds.append(Circle(radius=radius, color=color_off, fill_opacity=0.9))\n",
    "        led_group = Group(*leds).arrange(buff=buff)\n",
    "        self.add(led_group)\n",
    "        text = Text(\"Low Acceleration\", color=BLACK).next_to(led_group, UP, buff=1.0)\n",
    "        self.add(text)\n",
    "        for _ in range(3):\n",
    "            self.play(leds[3].animate(run_time=run_time_fast).set_fill(color=color_accel))\n",
    "            self.play(leds[3].animate(run_time=run_time_fast).set_fill(color=color_off))\n",
    "        self.wait(0.5)\n",
    "        self.remove(text)\n",
    "        self.wait(0.5)\n",
    "        text = Text(\"Medium Acceleration\", color=BLACK).next_to(led_group, UP, buff=1.0)\n",
    "        self.add(text)\n",
    "        for _ in range(3):\n",
    "            self.play(leds[2].animate(run_time=run_time_fast).set_fill(color=color_accel), \n",
    "                      leds[3].animate(run_time=run_time_fast).set_fill(color=color_accel), \n",
    "                      leds[4].animate(run_time=run_time_fast).set_fill(color=color_accel))\n",
    "            self.play(leds[2].animate(run_time=run_time_fast).set_fill(color=color_off), \n",
    "                      leds[3].animate(run_time=run_time_fast).set_fill(color=color_off), \n",
    "                      leds[4].animate(run_time=run_time_fast).set_fill(color=color_off))\n",
    "        self.wait(0.5)\n",
    "        self.remove(text)\n",
    "        self.wait(0.5)\n",
    "        text = Text(\"High Acceleration\", color=BLACK).next_to(led_group, UP, buff=1.0)\n",
    "        self.add(text)\n",
    "        for _ in range(3):\n",
    "            self.play(leds[1].animate(run_time=run_time_fast).set_fill(color=color_accel),\n",
    "                      leds[2].animate(run_time=run_time_fast).set_fill(color=color_accel), \n",
    "                      leds[3].animate(run_time=run_time_fast).set_fill(color=color_accel), \n",
    "                      leds[4].animate(run_time=run_time_fast).set_fill(color=color_accel),\n",
    "                      leds[5].animate(run_time=run_time_fast).set_fill(color=color_accel))\n",
    "            self.play(leds[1].animate(run_time=run_time_fast).set_fill(color=color_off),\n",
    "                      leds[2].animate(run_time=run_time_fast).set_fill(color=color_off), \n",
    "                      leds[3].animate(run_time=run_time_fast).set_fill(color=color_off), \n",
    "                      leds[4].animate(run_time=run_time_fast).set_fill(color=color_off),\n",
    "                      leds[5].animate(run_time=run_time_fast).set_fill(color=color_off))\n",
    "        self.wait(0.5)"
   ]
  },
  {
   "cell_type": "code",
   "execution_count": 53,
   "id": "3477a02e-85e9-4627-82eb-8607ac683f95",
   "metadata": {},
   "outputs": [
    {
     "data": {
      "text/html": [
       "<pre style=\"white-space:pre;overflow-x:auto;line-height:normal;font-family:Menlo,'DejaVu Sans Mono',consolas,'Courier New',monospace\">Manim Community <span style=\"color: #008000; text-decoration-color: #008000\">v0.18.1</span>\n",
       "\n",
       "</pre>\n"
      ],
      "text/plain": [
       "Manim Community \u001b[32mv0.\u001b[0m\u001b[32m18.1\u001b[0m\n",
       "\n"
      ]
     },
     "metadata": {},
     "output_type": "display_data"
    },
    {
     "name": "stderr",
     "output_type": "stream",
     "text": [
      "                                                                                                                                                                                                                                   \r"
     ]
    },
    {
     "data": {
      "text/html": [
       "<video src=\"media\\jupyter\\accelerating_low@2024-05-02@22-38-47.mp4\" controls autoplay loop style=\"max-width: 75%;\"  >\n",
       "      Your browser does not support the <code>video</code> element.\n",
       "    </video>"
      ],
      "text/plain": [
       "<IPython.core.display.Video object>"
      ]
     },
     "metadata": {},
     "output_type": "display_data"
    }
   ],
   "source": [
    "%%manim -qh accelerating_low\n",
    "class accelerating_low(Scene):\n",
    "    def construct(self):\n",
    "        leds = []\n",
    "        for i in range(num_leds):\n",
    "            leds.append(Circle(radius=radius, color=color_off, fill_opacity=0.9))\n",
    "        led_group = Group(*leds).arrange(buff=buff)\n",
    "        self.add(led_group)\n",
    "        self.play(leds[3].animate(run_time=run_time_fast).set_fill(color=color_100))\n",
    "        self.play(leds[3].animate(run_time=run_time_fast).set_fill(color=color_off))"
   ]
  },
  {
   "cell_type": "code",
   "execution_count": 35,
   "id": "f12f533f-68bc-4b8b-bc83-03fa5a40a26a",
   "metadata": {},
   "outputs": [
    {
     "data": {
      "text/html": [
       "<pre style=\"white-space:pre;overflow-x:auto;line-height:normal;font-family:Menlo,'DejaVu Sans Mono',consolas,'Courier New',monospace\">Manim Community <span style=\"color: #008000; text-decoration-color: #008000\">v0.18.1</span>\n",
       "\n",
       "</pre>\n"
      ],
      "text/plain": [
       "Manim Community \u001b[32mv0.\u001b[0m\u001b[32m18.1\u001b[0m\n",
       "\n"
      ]
     },
     "metadata": {},
     "output_type": "display_data"
    },
    {
     "name": "stderr",
     "output_type": "stream",
     "text": [
      "                                                                                                                                                                                                                                   \r"
     ]
    },
    {
     "data": {
      "text/html": [
       "<video src=\"media\\jupyter\\accelerating_med@2024-05-02@21-22-25.mp4\" controls autoplay loop style=\"max-width: 75%;\"  >\n",
       "      Your browser does not support the <code>video</code> element.\n",
       "    </video>"
      ],
      "text/plain": [
       "<IPython.core.display.Video object>"
      ]
     },
     "metadata": {},
     "output_type": "display_data"
    }
   ],
   "source": [
    "%%manim -qh accelerating_med\n",
    "class accelerating_med(Scene):\n",
    "    def construct(self):\n",
    "        leds = []\n",
    "        for i in range(num_leds):\n",
    "            leds.append(Circle(radius=radius, color=color_off, fill_opacity=0.9))\n",
    "        led_group = Group(*leds).arrange(buff=buff)\n",
    "        self.add(led_group)\n",
    "        animations_on = []\n",
    "        animations_off = []\n",
    "        # for i in [2, 3, 4]:\n",
    "        #     # animations_on.append(leds[i].animate(run_time=run_time_fast).set_fill(color=color_70))\n",
    "        #     # animations_off.append(leds[i].animate(run_time=run_time_fast).set_fill(color=color_off))\n",
    "        #     animations_on.append(ApplyMethod(leds[i].set_fill, color=color_70))\n",
    "        #     animations_off.append(ApplyMethod(leds[i].set_fill, color=color_off))\n",
    "\n",
    "        # self.play(*animations_on, run_time=run_time_fast)\n",
    "        # self.play(*animations_off, run_time=run_time_fast)\n",
    "        self.play(leds[2].animate(run_time=run_time_med).set_fill(color=color_70), \n",
    "                  leds[3].animate(run_time=run_time_med).set_fill(color=color_70), \n",
    "                  leds[4].animate(run_time=run_time_med).set_fill(color=color_70))\n",
    "        self.play(leds[2].animate(run_time=run_time_med).set_fill(color=color_off), \n",
    "                  leds[3].animate(run_time=run_time_med).set_fill(color=color_off), \n",
    "                  leds[4].animate(run_time=run_time_med).set_fill(color=color_off))"
   ]
  },
  {
   "cell_type": "code",
   "execution_count": 19,
   "id": "ca32983a-a146-459b-bd17-000d3383815d",
   "metadata": {},
   "outputs": [
    {
     "data": {
      "text/html": [
       "<pre style=\"white-space:pre;overflow-x:auto;line-height:normal;font-family:Menlo,'DejaVu Sans Mono',consolas,'Courier New',monospace\">Manim Community <span style=\"color: #008000; text-decoration-color: #008000\">v0.18.1</span>\n",
       "\n",
       "</pre>\n"
      ],
      "text/plain": [
       "Manim Community \u001b[32mv0.\u001b[0m\u001b[32m18.1\u001b[0m\n",
       "\n"
      ]
     },
     "metadata": {},
     "output_type": "display_data"
    },
    {
     "name": "stderr",
     "output_type": "stream",
     "text": [
      "                                                                                                                                                                                                                                  \r"
     ]
    },
    {
     "data": {
      "text/html": [
       "<video src=\"media\\jupyter\\accelerating_high@2024-05-02@20-00-48.mp4\" controls autoplay loop style=\"max-width: 75%;\"  >\n",
       "      Your browser does not support the <code>video</code> element.\n",
       "    </video>"
      ],
      "text/plain": [
       "<IPython.core.display.Video object>"
      ]
     },
     "metadata": {},
     "output_type": "display_data"
    }
   ],
   "source": [
    "%%manim -qh accelerating_high\n",
    "class accelerating_high(Scene):\n",
    "    def construct(self):\n",
    "        run_time = 0.5\n",
    "        leds = []\n",
    "        for i in range(num_leds):\n",
    "            leds.append(Circle(radius=radius, color=color_off, fill_opacity=0.9))\n",
    "        led_group = Group(*leds).arrange(buff=buff)\n",
    "        self.add(led_group)\n",
    "        self.play(leds[1].animate(run_time=run_time_fast).set_fill(color=color_100),\n",
    "                  leds[2].animate(run_time=run_time_fast).set_fill(color=color_100), \n",
    "                  leds[3].animate(run_time=run_time_fast).set_fill(color=color_100), \n",
    "                  leds[4].animate(run_time=run_time_fast).set_fill(color=color_100),\n",
    "                  leds[5].animate(run_time=run_time_fast).set_fill(color=color_100))\n",
    "        self.play(leds[1].animate(run_time=run_time_fast).set_fill(color=color_off),\n",
    "                  leds[2].animate(run_time=run_time_fast).set_fill(color=color_off), \n",
    "                  leds[3].animate(run_time=run_time_fast).set_fill(color=color_off), \n",
    "                  leds[4].animate(run_time=run_time_fast).set_fill(color=color_off),\n",
    "                  leds[5].animate(run_time=run_time_fast).set_fill(color=color_off))"
   ]
  },
  {
   "cell_type": "code",
   "execution_count": 29,
   "id": "8991ab55-39d1-43c9-97e6-f25fdeae3d50",
   "metadata": {},
   "outputs": [
    {
     "data": {
      "text/html": [
       "<pre style=\"white-space:pre;overflow-x:auto;line-height:normal;font-family:Menlo,'DejaVu Sans Mono',consolas,'Courier New',monospace\">Manim Community <span style=\"color: #008000; text-decoration-color: #008000\">v0.18.1</span>\n",
       "\n",
       "</pre>\n"
      ],
      "text/plain": [
       "Manim Community \u001b[32mv0.\u001b[0m\u001b[32m18.1\u001b[0m\n",
       "\n"
      ]
     },
     "metadata": {},
     "output_type": "display_data"
    },
    {
     "name": "stderr",
     "output_type": "stream",
     "text": [
      "                                                                                                                                                                                                                                  \r"
     ]
    },
    {
     "data": {
      "text/html": [
       "<video src=\"media\\jupyter\\accelerating@2024-05-02@20-16-43.mp4\" controls autoplay loop style=\"max-width: 75%;\"  >\n",
       "      Your browser does not support the <code>video</code> element.\n",
       "    </video>"
      ],
      "text/plain": [
       "<IPython.core.display.Video object>"
      ]
     },
     "metadata": {},
     "output_type": "display_data"
    }
   ],
   "source": [
    "%%manim -qh accelerating\n",
    "class accelerating(Scene):\n",
    "    def construct(self):\n",
    "        leds = []\n",
    "        for i in range(num_leds):\n",
    "            leds.append(Circle(radius=radius, color=color_off, fill_opacity=0.9))\n",
    "        led_group = Group(*leds).arrange(buff=buff)\n",
    "        self.add(led_group)\n",
    "\n",
    "        # One LED on\n",
    "        self.play(leds[3].animate(run_time=run_time_fast).set_fill(color=color_100))\n",
    "        self.wait(duration=0.1)\n",
    "        # Three LEDs on\n",
    "        animations = []\n",
    "        for i in [2, 4]:\n",
    "            animations.append(leds[i].animate(run_time=run_time_fast).set_fill(color=color_100))\n",
    "        self.play(*animations)\n",
    "        self.wait(duration=0.1)\n",
    "\n",
    "        # 5 LEDs on\n",
    "        animations = []\n",
    "        for i in [1, 5]:\n",
    "            animations.append(leds[i].animate(run_time=run_time_fast).set_fill(color=color_100))\n",
    "        self.play(*animations)\n",
    "        self.wait(duration=0.1)"
   ]
  },
  {
   "cell_type": "code",
   "execution_count": 30,
   "id": "6fd87699-ca12-4bdc-a9bf-770e376f03bf",
   "metadata": {},
   "outputs": [
    {
     "data": {
      "text/html": [
       "<pre style=\"white-space:pre;overflow-x:auto;line-height:normal;font-family:Menlo,'DejaVu Sans Mono',consolas,'Courier New',monospace\">Manim Community <span style=\"color: #008000; text-decoration-color: #008000\">v0.18.1</span>\n",
       "\n",
       "</pre>\n"
      ],
      "text/plain": [
       "Manim Community \u001b[32mv0.\u001b[0m\u001b[32m18.1\u001b[0m\n",
       "\n"
      ]
     },
     "metadata": {},
     "output_type": "display_data"
    },
    {
     "name": "stderr",
     "output_type": "stream",
     "text": [
      "                                                                                                                                                                                                                                  \r"
     ]
    },
    {
     "data": {
      "text/html": [
       "<video src=\"media\\jupyter\\decelerating@2024-05-02@20-16-58.mp4\" controls autoplay loop style=\"max-width: 75%;\"  >\n",
       "      Your browser does not support the <code>video</code> element.\n",
       "    </video>"
      ],
      "text/plain": [
       "<IPython.core.display.Video object>"
      ]
     },
     "metadata": {},
     "output_type": "display_data"
    }
   ],
   "source": [
    "%%manim -qh decelerating\n",
    "class decelerating(Scene):\n",
    "    def construct(self):\n",
    "        run_time = 0.5\n",
    "        leds = []\n",
    "        for i in range(num_leds):\n",
    "            leds.append(Circle(radius=radius, color=color_off, fill_opacity=0.9))\n",
    "        led_group = Group(*leds).arrange(buff=buff)\n",
    "        self.add(led_group)\n",
    "\n",
    "        # Five LEDs on\n",
    "        for i in range(1,6):\n",
    "            leds[i].set_fill(color=color_40)\n",
    "\n",
    "        # Three LEDs on\n",
    "        animations = []\n",
    "        for i in [1, 5]:\n",
    "            animations.append(leds[i].animate(run_time=run_time_med).set_fill(color=color_off))\n",
    "        self.play(*animations)\n",
    "        self.wait(duration=0.5)\n",
    "\n",
    "        for i in [2, 4]:\n",
    "            animations.append(leds[i].animate(run_time=run_time_med).set_fill(color=color_off))\n",
    "        self.play(*animations)\n",
    "        self.wait(duration=0.5)\n",
    "\n",
    "        animations = []\n",
    "        for i in range(1,6):\n",
    "            animations.append(leds[i].animate(run_time=run_time_med).set_fill(color=color_40))\n",
    "        self.play(*animations)\n",
    "        self.wait(duration=0.5)\n"
   ]
  },
  {
   "cell_type": "code",
   "execution_count": 70,
   "id": "d9046f66-f181-4932-8945-bd3893d5d2e4",
   "metadata": {},
   "outputs": [
    {
     "data": {
      "text/html": [
       "<pre style=\"white-space:pre;overflow-x:auto;line-height:normal;font-family:Menlo,'DejaVu Sans Mono',consolas,'Courier New',monospace\">Manim Community <span style=\"color: #008000; text-decoration-color: #008000\">v0.18.1</span>\n",
       "\n",
       "</pre>\n"
      ],
      "text/plain": [
       "Manim Community \u001b[32mv0.\u001b[0m\u001b[32m18.1\u001b[0m\n",
       "\n"
      ]
     },
     "metadata": {},
     "output_type": "display_data"
    },
    {
     "name": "stderr",
     "output_type": "stream",
     "text": [
      "                                                                                                                                                                                                                                   \r"
     ]
    },
    {
     "data": {
      "text/html": [
       "<video src=\"media\\jupyter\\CompleteStop@2024-05-02@23-27-09.mp4\" controls autoplay loop style=\"max-width: 75%;\"  >\n",
       "      Your browser does not support the <code>video</code> element.\n",
       "    </video>"
      ],
      "text/plain": [
       "<IPython.core.display.Video object>"
      ]
     },
     "metadata": {},
     "output_type": "display_data"
    }
   ],
   "source": [
    "%%manim -qh CompleteStop\n",
    "class CompleteStop(Scene):\n",
    "    def construct(self):\n",
    "        color_stop = DARK_GREY\n",
    "        # color_stop = color_40\n",
    "        leds = []\n",
    "        for i in range(num_leds):\n",
    "            leds.append(Circle(radius=radius, color=color_off, fill_opacity=0.9))\n",
    "        led_group = Group(*leds).arrange(buff=buff)\n",
    "        self.add(led_group)\n",
    "        self.play(FadeToColor(led_group, color=color_stop), run_time=run_time_fast)\n",
    "        self.wait(duration=0.25)\n",
    "        self.play(FadeToColor(led_group, color=color_off), run_time=run_time_fast)\n",
    "        self.wait(duration=0.25)"
   ]
  },
  {
   "cell_type": "markdown",
   "id": "58d8f160-44f5-4f48-b39a-67c9bef5e5ac",
   "metadata": {},
   "source": [
    "# The ones below are just for illustration"
   ]
  },
  {
   "cell_type": "code",
   "execution_count": 37,
   "id": "1f5b88b3-081c-4601-aff3-7103dda0635b",
   "metadata": {},
   "outputs": [
    {
     "data": {
      "text/html": [
       "<pre style=\"white-space:pre;overflow-x:auto;line-height:normal;font-family:Menlo,'DejaVu Sans Mono',consolas,'Courier New',monospace\">Manim Community <span style=\"color: #008000; text-decoration-color: #008000\">v0.18.1</span>\n",
       "\n",
       "</pre>\n"
      ],
      "text/plain": [
       "Manim Community \u001b[32mv0.\u001b[0m\u001b[32m18.1\u001b[0m\n",
       "\n"
      ]
     },
     "metadata": {},
     "output_type": "display_data"
    },
    {
     "data": {
      "text/html": [
       "<video src=\"media\\jupyter\\ChangingNumber@2024-05-02@21-58-25.mp4\" controls autoplay loop style=\"max-width: 75%;\"  >\n",
       "      Your browser does not support the <code>video</code> element.\n",
       "    </video>"
      ],
      "text/plain": [
       "<IPython.core.display.Video object>"
      ]
     },
     "metadata": {},
     "output_type": "display_data"
    }
   ],
   "source": [
    "%%manim -qh ChangingNumber\n",
    "class ChangingNumber(Scene):\n",
    "    def construct(self):\n",
    "        leds = []\n",
    "        for i in range(num_leds):\n",
    "            leds.append(Circle(radius=radius, color=color_off, fill_opacity=0.9))\n",
    "        led_group = Group(*leds).arrange(buff=buff)\n",
    "        self.add(led_group)\n",
    "        self.wait(duration=0.5)\n",
    "        leds[3].set_fill(color=color_100)\n",
    "        self.wait(duration=0.5)\n",
    "        leds[2].set_fill(color=color_100)\n",
    "        leds[4].set_fill(color=color_100)\n",
    "        self.wait(duration=0.5)\n",
    "        leds[1].set_fill(color=color_100)\n",
    "        leds[5].set_fill(color=color_100)\n",
    "        self.wait(duration=0.5)"
   ]
  },
  {
   "cell_type": "code",
   "execution_count": 40,
   "id": "31fbabfe-b678-4153-a7e1-218a5d2df7c6",
   "metadata": {},
   "outputs": [
    {
     "data": {
      "text/html": [
       "<pre style=\"white-space:pre;overflow-x:auto;line-height:normal;font-family:Menlo,'DejaVu Sans Mono',consolas,'Courier New',monospace\">Manim Community <span style=\"color: #008000; text-decoration-color: #008000\">v0.18.1</span>\n",
       "\n",
       "</pre>\n"
      ],
      "text/plain": [
       "Manim Community \u001b[32mv0.\u001b[0m\u001b[32m18.1\u001b[0m\n",
       "\n"
      ]
     },
     "metadata": {},
     "output_type": "display_data"
    },
    {
     "data": {
      "text/html": [
       "<video src=\"media\\jupyter\\ChangingIntensity@2024-05-02@22-02-16.mp4\" controls autoplay loop style=\"max-width: 75%;\"  >\n",
       "      Your browser does not support the <code>video</code> element.\n",
       "    </video>"
      ],
      "text/plain": [
       "<IPython.core.display.Video object>"
      ]
     },
     "metadata": {},
     "output_type": "display_data"
    }
   ],
   "source": [
    "%%manim -qh ChangingIntensity\n",
    "class ChangingIntensity(Scene):\n",
    "    def construct(self):\n",
    "        leds = []\n",
    "        for i in range(num_leds):\n",
    "            leds.append(Circle(radius=radius, color=color_off, fill_opacity=0.9))\n",
    "        led_group = Group(*leds).arrange(buff=buff)\n",
    "        self.add(led_group)\n",
    "        for color in [color_100, color_70, color_40]:\n",
    "            for led in leds[1:6]:\n",
    "                led.set_fill(color=color)\n",
    "            self.wait(duration=0.5)\n"
   ]
  },
  {
   "cell_type": "code",
   "execution_count": 48,
   "id": "879387de-a424-4c0f-9404-17d0ffaa1c76",
   "metadata": {},
   "outputs": [
    {
     "data": {
      "text/html": [
       "<pre style=\"white-space:pre;overflow-x:auto;line-height:normal;font-family:Menlo,'DejaVu Sans Mono',consolas,'Courier New',monospace\">Manim Community <span style=\"color: #008000; text-decoration-color: #008000\">v0.18.1</span>\n",
       "\n",
       "</pre>\n"
      ],
      "text/plain": [
       "Manim Community \u001b[32mv0.\u001b[0m\u001b[32m18.1\u001b[0m\n",
       "\n"
      ]
     },
     "metadata": {},
     "output_type": "display_data"
    },
    {
     "name": "stderr",
     "output_type": "stream",
     "text": [
      "                                                                                                                                                                                                                                   \r"
     ]
    },
    {
     "data": {
      "text/html": [
       "<video src=\"media\\jupyter\\ChangingFrequency@2024-05-02@22-17-42.mp4\" controls autoplay loop style=\"max-width: 75%;\"  >\n",
       "      Your browser does not support the <code>video</code> element.\n",
       "    </video>"
      ],
      "text/plain": [
       "<IPython.core.display.Video object>"
      ]
     },
     "metadata": {},
     "output_type": "display_data"
    }
   ],
   "source": [
    "%%manim -qh ChangingFrequency\n",
    "class ChangingFrequency(Scene):\n",
    "    def construct(self):\n",
    "        leds = []\n",
    "        for i in range(num_leds):\n",
    "            leds.append(Circle(radius=radius, color=color_off, fill_opacity=0.9))\n",
    "        led_group = Group(*leds).arrange(buff=buff)\n",
    "        self.add(led_group)\n",
    "        active_leds = leds[1:6]\n",
    "        text = Text(\"Low Frequency\", color=BLACK).next_to(led_group, UP, buff=1.0)\n",
    "        self.add(text)\n",
    "        animations = [led.animate(run_time=1.0).set_fill(color=color_100) for led in active_leds]\n",
    "        self.play(*animations)\n",
    "        self.wait(0.1)\n",
    "        animations = [led.animate(run_time=1.0).set_fill(color=color_off) for led in active_leds]\n",
    "        self.play(*animations)\n",
    "        self.wait(0.1)\n",
    "        animations = [led.animate(run_time=1.0).set_fill(color=color_100) for led in active_leds]\n",
    "        self.play(*animations)\n",
    "        self.wait(0.1)\n",
    "        animations = [led.animate(run_time=1.0).set_fill(color=color_off) for led in active_leds]\n",
    "        self.play(*animations)\n",
    "        self.wait(0.1)\n",
    "        animations = [led.animate(run_time=1.0).set_fill(color=color_100) for led in active_leds]\n",
    "        self.play(*animations)\n",
    "        self.wait(0.1)\n",
    "        animations = [led.animate(run_time=1.0).set_fill(color=color_off) for led in active_leds]\n",
    "        self.play(*animations)\n",
    "        self.wait(0.5)\n",
    "        self.remove(text)\n",
    "        for led in active_leds:\n",
    "            led.set_fill(color=color_off)\n",
    "        # led_group.set_fill(color=color_off)\n",
    "        self.wait(0.5)\n",
    "        text = Text(\"High Frequency\", color=BLACK).next_to(led_group, UP, buff=1.0)\n",
    "        self.add(text)\n",
    "        animations = [led.animate(run_time=0.2).set_fill(color=color_100) for led in active_leds]\n",
    "        self.play(*animations)\n",
    "        self.wait(0.1)\n",
    "        animations = [led.animate(run_time=0.2).set_fill(color=color_off) for led in active_leds]\n",
    "        self.play(*animations)\n",
    "        self.wait(0.1)\n",
    "        animations = [led.animate(run_time=0.2).set_fill(color=color_100) for led in active_leds]\n",
    "        self.play(*animations)\n",
    "        self.wait(0.1)\n",
    "        animations = [led.animate(run_time=0.2).set_fill(color=color_off) for led in active_leds]\n",
    "        self.play(*animations)\n",
    "        self.wait(0.1)\n",
    "        animations = [led.animate(run_time=0.2).set_fill(color=color_100) for led in active_leds]\n",
    "        self.play(*animations)\n",
    "        self.wait(0.1)\n",
    "        animations = [led.animate(run_time=0.2).set_fill(color=color_off) for led in active_leds]\n",
    "        self.play(*animations)\n",
    "        self.wait(1.0)\n"
   ]
  },
  {
   "cell_type": "code",
   "execution_count": 52,
   "id": "6b3c7cc0-d872-4eda-9a05-3a5426191ddf",
   "metadata": {},
   "outputs": [
    {
     "data": {
      "text/html": [
       "<pre style=\"white-space:pre;overflow-x:auto;line-height:normal;font-family:Menlo,'DejaVu Sans Mono',consolas,'Courier New',monospace\">Manim Community <span style=\"color: #008000; text-decoration-color: #008000\">v0.18.1</span>\n",
       "\n",
       "</pre>\n"
      ],
      "text/plain": [
       "Manim Community \u001b[32mv0.\u001b[0m\u001b[32m18.1\u001b[0m\n",
       "\n"
      ]
     },
     "metadata": {},
     "output_type": "display_data"
    },
    {
     "data": {
      "text/html": [
       "<video src=\"media\\jupyter\\ChangingColor@2024-05-02@22-29-43.mp4\" controls autoplay loop style=\"max-width: 75%;\"  >\n",
       "      Your browser does not support the <code>video</code> element.\n",
       "    </video>"
      ],
      "text/plain": [
       "<IPython.core.display.Video object>"
      ]
     },
     "metadata": {},
     "output_type": "display_data"
    }
   ],
   "source": [
    "%%manim -qh ChangingColor\n",
    "class ChangingColor(Scene):\n",
    "    def construct(self):\n",
    "        leds = []\n",
    "        for i in range(num_leds):\n",
    "            leds.append(Circle(radius=radius, color=color_off, fill_opacity=0.9))\n",
    "        led_group = Group(*leds).arrange(buff=buff)\n",
    "        self.add(led_group)\n",
    "        for color in [PURE_GREEN, PURE_RED, BLUE, YELLOW]:\n",
    "            animations = []\n",
    "            for led in leds[1:6]:\n",
    "                animations.append(led.set_fill(color=color))\n",
    "            # self.play(*animations)\n",
    "            self.wait(duration=0.5)"
   ]
  },
  {
   "cell_type": "code",
   "execution_count": null,
   "id": "7237baa0-8d90-48f3-bef7-7339b9e9ebc3",
   "metadata": {},
   "outputs": [],
   "source": []
  }
 ],
 "metadata": {
  "kernelspec": {
   "display_name": "Python 3 (ipykernel)",
   "language": "python",
   "name": "python3"
  },
  "language_info": {
   "codemirror_mode": {
    "name": "ipython",
    "version": 3
   },
   "file_extension": ".py",
   "mimetype": "text/x-python",
   "name": "python",
   "nbconvert_exporter": "python",
   "pygments_lexer": "ipython3",
   "version": "3.11.9"
  }
 },
 "nbformat": 4,
 "nbformat_minor": 5
}
